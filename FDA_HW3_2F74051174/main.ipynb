{
 "cells": [
  {
   "cell_type": "markdown",
   "metadata": {},
   "source": [
    "# 作業 3_2"
   ]
  },
  {
   "cell_type": "markdown",
   "metadata": {},
   "source": [
    "## 環境\n",
    "\n",
    "請填寫當前執行使用的環境。\n",
    "\n",
    "|環境|名稱|版本|\n",
    "|-|-|-|\n",
    "|作業系統|Windows|10|\n",
    "|程式執行環境|jupyter notebook|1.0.0|\n",
    "|python 版本|python3|3.6.9|\n",
    "|安裝環境|pip|20.0.2|"
   ]
  },
  {
   "cell_type": "markdown",
   "metadata": {},
   "source": [
    "## 安裝\n",
    "\n",
    "請填寫安裝套件需要的指令\n",
    "\n",
    "pip install -r requirements.txt\n"
   ]
  },
  {
   "cell_type": "code",
   "execution_count": 9,
   "metadata": {},
   "outputs": [],
   "source": [
    "# 請勿更動此區塊程式碼\n",
    "\n",
    "import time\n",
    "import numpy as np\n",
    "import pandas as pd\n",
    "import matplotlib.pyplot as plt, seaborn\n",
    "from mpl_toolkits.mplot3d import Axes3D\n",
    "import os\n",
    "from sklearn.preprocessing import StandardScaler\n",
    "\n",
    "\n",
    "EXECUTION_START_TIME = time.time() # 計算執行時間\n",
    "\n",
    "df = pd.read_csv('train.csv')      # 讀取資料，請勿更改路徑"
   ]
  },
  {
   "cell_type": "markdown",
   "metadata": {},
   "source": [
    "## 資料分析與前處理\n",
    "\n",
    "請在此區塊後使用**一個或多個區塊**進行資料分析與前處理，項目可以包含：\n",
    "\n",
    "- 資料視覺化\n",
    "- 相關係數\n",
    "- 決定輸入特徵\n",
    "- 處理缺失值\n",
    "- 轉換數值\n",
    "- 轉換類別\n",
    "- 其他\n",
    "\n",
    "請以 `markdown` 簡單描述**流程**、**方法**與**原因**：\n",
    "\n",
    "1. 觀察...，發現...\n",
    "2. 填補...，策略...\n",
    "3. 轉換...，原因..."
   ]
  },
  {
   "cell_type": "code",
   "execution_count": 2,
   "metadata": {
    "scrolled": true
   },
   "outputs": [
    {
     "name": "stdout",
     "output_type": "stream",
     "text": [
      "<class 'pandas.core.frame.DataFrame'>\n",
      "RangeIndex: 4299 entries, 0 to 4298\n",
      "Data columns (total 25 columns):\n",
      " #   Column                 Non-Null Count  Dtype  \n",
      "---  ------                 --------------  -----  \n",
      " 0   user_id                4299 non-null   object \n",
      " 1   churches               4299 non-null   float64\n",
      " 2   resorts                4299 non-null   float64\n",
      " 3   beaches                4299 non-null   float64\n",
      " 4   parks                  4299 non-null   float64\n",
      " 5   theatres               4299 non-null   float64\n",
      " 6   museums                4299 non-null   float64\n",
      " 7   malls                  4299 non-null   float64\n",
      " 8   zoo                    4299 non-null   float64\n",
      " 9   restaurants            4299 non-null   float64\n",
      " 10  pubs_bars              4299 non-null   float64\n",
      " 11  local_services         4299 non-null   object \n",
      " 12  burger_pizza_shops     4298 non-null   float64\n",
      " 13  hotels_other_lodgings  4299 non-null   float64\n",
      " 14  juice_bars             4299 non-null   float64\n",
      " 15  art_galleries          4299 non-null   float64\n",
      " 16  dance_clubs            4299 non-null   float64\n",
      " 17  swimming_pools         4299 non-null   float64\n",
      " 18  gyms                   4299 non-null   float64\n",
      " 19  bakeries               4299 non-null   float64\n",
      " 20  beauty_spas            4299 non-null   float64\n",
      " 21  cafes                  4299 non-null   float64\n",
      " 22  view_points            4299 non-null   float64\n",
      " 23  monuments              4299 non-null   float64\n",
      " 24  gardens                4298 non-null   float64\n",
      "dtypes: float64(23), object(2)\n",
      "memory usage: 839.8+ KB\n"
     ]
    }
   ],
   "source": [
    "# 資料分析與前處理\n",
    "\n",
    "import seaborn as sns   \n",
    "from sklearn.svm import SVC\n",
    "df.drop('Unnamed: 25', axis = 1, inplace = True)\n",
    "column_names = ['user_id', 'churches', 'resorts', 'beaches', 'parks', 'theatres', 'museums', 'malls', 'zoo', 'restaurants', 'pubs_bars', 'local_services', 'burger_pizza_shops', 'hotels_other_lodgings', 'juice_bars', 'art_galleries', 'dance_clubs', 'swimming_pools', 'gyms', 'bakeries', 'beauty_spas', 'cafes', 'view_points', 'monuments', 'gardens']\n",
    "df.columns = column_names\n",
    "df.info()\n",
    "\n",
    "\n",
    "\n"
   ]
  },
  {
   "cell_type": "code",
   "execution_count": 3,
   "metadata": {},
   "outputs": [
    {
     "data": {
      "text/plain": [
       "user_id                  0\n",
       "churches                 0\n",
       "resorts                  0\n",
       "beaches                  0\n",
       "parks                    0\n",
       "theatres                 0\n",
       "museums                  0\n",
       "malls                    0\n",
       "zoo                      0\n",
       "restaurants              0\n",
       "pubs_bars                0\n",
       "local_services           0\n",
       "burger_pizza_shops       1\n",
       "hotels_other_lodgings    0\n",
       "juice_bars               0\n",
       "art_galleries            0\n",
       "dance_clubs              0\n",
       "swimming_pools           0\n",
       "gyms                     0\n",
       "bakeries                 0\n",
       "beauty_spas              0\n",
       "cafes                    0\n",
       "view_points              0\n",
       "monuments                0\n",
       "gardens                  1\n",
       "dtype: int64"
      ]
     },
     "execution_count": 3,
     "metadata": {},
     "output_type": "execute_result"
    }
   ],
   "source": [
    "#檢查有沒有缺失值\n",
    "df[column_names].isnull().sum()\n"
   ]
  },
  {
   "cell_type": "code",
   "execution_count": 8,
   "metadata": {},
   "outputs": [
    {
     "data": {
      "text/plain": [
       "<matplotlib.axes._subplots.AxesSubplot at 0x1b3174750d0>"
      ]
     },
     "execution_count": 8,
     "metadata": {},
     "output_type": "execute_result"
    },
    {
     "data": {
      "image/png": "[encoded data removed]",
      "text/plain": [
       "<Figure size 432x288 with 2 Axes>"
      ]
     },
     "metadata": {
      "needs_background": "light"
     },
     "output_type": "display_data"
    }
   ],
   "source": [
    "#把缺失值用平均值做填補\n",
    "df = df.fillna(df.mean())\n",
    "\n",
    "#將資料轉成matrix，然後利用熱度凸顯示出關聯矩陣\n",
    "cor=df.corr()\n",
    "sns.heatmap(cor,annot=False,cmap='coolwarm')"
   ]
  },
  {
   "cell_type": "code",
   "execution_count": null,
   "metadata": {},
   "outputs": [],
   "source": [
    "# 計算 Fare 欄位各個百分位數(Percentile)\n",
    "P_all = [ np.percentile( df.Fare, q=i ) for i in np.arange(0,101) ] \n",
    "Pth_Percentile = pd.DataFrame( { 'Q':list(range(101)), 'Value':P_all } )\n",
    "\n",
    "# The first、second and third quartile(i,e., the 25th、50th and 75th Percentile)\n",
    "Q1 = Pth_Percentile.iloc[ 25, 1 ]\n",
    "Q2 = Pth_Percentile.iloc[ 50, 1 ]\n",
    "Q3 = Pth_Percentile.iloc[ 75, 1 ]\n",
    "IQR = Q3 - Q1\n",
    "\n",
    "print( f'Q1 = {Q1}' )\n",
    "print( f'Q2 = {Q2} = Median' )\n",
    "print( f'Q3 = {Q3}' )\n",
    "print( f'Maximum = {df.Fare.max()}')\n",
    "print( f'IQR = Q3 - Q1 = {IQR}' )\n",
    "print( f'Q3 + 1.5IQR = {Q3+1.5*IQR}' )\n",
    "\n",
    "# 依照四分位數，對 Fare 欄位進行分組\n",
    "Fare_bin = [ 0, Q1, Q2, Q3, Q3+1.5*IQR, df.Fare.max() ]\n",
    "df[ 'Fare_Group' ] = pd.cut( df.Fare.values, Fare_bin )\n",
    "\n",
    "# 計算每個分組中的資料筆數\n",
    "Group_Counts = df[ 'Fare_Group' ].value_counts().reset_index()    \n",
    "Group_Counts.columns = [ 'Fare_Group', 'Counts' ]\n",
    "Group_Counts.sort_values( by='Fare_Group' )"
   ]
  },
  {
   "cell_type": "markdown",
   "metadata": {},
   "source": [
    "- **利用資料視覺化觀察票價與生存率之關係**\n",
    "    "
   ]
  },
  {
   "cell_type": "markdown",
   "metadata": {},
   "source": [
    "## 模型訓練\n",
    "\n",
    "請在此區塊後使用**一個或多個區塊**進行模型訓練，**需要**包含以下內容：\n",
    "\n",
    "- **選擇模型**\n",
    "    - 設定模型**超參數**\n",
    "    - **控制隨機亂數**\n",
    "- 計算**準確度（Accuracy）**\n",
    "    - 使用 **5-fold cross validation**，輸出**平均準確度**\n",
    "    - 最後再使用**所有**資料進行訓練並輸出**準確度**\n",
    "    - 準確度必須**超越**課堂使用的範例\n",
    "    \n",
    "如果有進行多於一個以上的實驗，**可以保留所有**的實驗結果，但是執行時間將會納入**全部**實驗。\n",
    "\n",
    "## 模型描述\n",
    "   \n",
    "    使用作業要求的集成方法（ensemble learning）把base estimator组合起来形成Random Forest，以避免偏差及overfit在這邊把n_estimators設定為250棵，數量太小達不到效果，太大的話怕電腦運行太久，min_samples_split設為20，代表若是決策樹的子樹的樣本小於20的話，就不再繼續劃分，以避免overfit，oob_score:因為bagging採取隨機抽樣建立樹模型，未被抽取到的樣本集，可以用來驗證模型效果，在此設定為true"
   ]
  },
  {
   "cell_type": "code",
   "execution_count": null,
   "metadata": {
    "scrolled": true
   },
   "outputs": [],
   "source": [
    "# 模型訓練\n",
    "\n",
    "from sklearn.model_selection import KFold             # 匯入 K 次交叉驗證工具\n",
    "from sklearn.tree import DecisionTreeClassifier       # 匯入決策樹模型\n",
    "from sklearn.ensemble import  RandomForestClassifier  #!!!!!!!!!!!!!!!!!!!!!!!!!!!!!!!\n",
    "from sklearn.metrics import accuracy_score            # 匯入準確度計算工具\n",
    "\n",
    "kf = KFold(n_splits=5,                                # 設定 K 值\n",
    "           random_state=1012,\n",
    "           shuffle=True)\n",
    "kf.get_n_splits(train_x)                              # 給予資料範圍\n",
    "\n",
    "train_acc_list = []                                   # 儲存每次訓練模型的準確度\n",
    "valid_acc_list = []                                   # 儲存每次驗證模型的準確度\n",
    "\n",
    "for train_index, valid_index in kf.split(train_x):    # 每個迴圈都會產生不同部份的資料\n",
    "    train_x_split = train_x.iloc[train_index]         # 產生訓練資料\n",
    "    train_y_split = train_y.iloc[train_index]         # 產生訓練資料標籤\n",
    "    valid_x_split = train_x.iloc[valid_index]         # 產生驗證資料\n",
    "    valid_y_split = train_y.iloc[valid_index]         # 產生驗證資料標籤\n",
    "    \n",
    "    #model = DecisionTreeClassifier(random_state=1012) # 創造決策樹模型\n",
    "    model=RandomForestClassifier(random_state=2,n_estimators=250,min_samples_split=20,oob_score=True) #!!!!!!!!!\n",
    "    model.fit(train_x_split, train_y_split)           # 訓練決策樹模型\n",
    "    \n",
    "    train_pred_y = model.predict(train_x_split)       # 確認模型是否訓練成功\n",
    "    train_acc = accuracy_score(train_y_split,         # 計算訓練資料準確度\n",
    "                               train_pred_y)\n",
    "    valid_pred_y = model.predict(valid_x_split)       # 驗證模型是否訓練成功\n",
    "    valid_acc = accuracy_score(valid_y_split,         # 計算驗證資料準確度\n",
    "                               valid_pred_y)\n",
    "    \n",
    "    train_acc_list.append(train_acc)\n",
    "    valid_acc_list.append(valid_acc)\n",
    "\n",
    "print((\n",
    "    'average train accuracy: {}\\n' +\n",
    "    '    min train accuracy: {}\\n' +\n",
    "    '    max train accuracy: {}\\n' +\n",
    "    'average valid accuracy: {}\\n' +\n",
    "    '    min valid accuracy: {}\\n' +\n",
    "    '    max valid accuracy: {}').format(\n",
    "    np.mean(train_acc_list),                          # 輸出平均訓練準確度\n",
    "    np.min(train_acc_list),                           # 輸出最低訓練準確度\n",
    "    np.max(train_acc_list),                           # 輸出最高訓練準確度\n",
    "    np.mean(valid_acc_list),                          # 輸出平均驗證準確度\n",
    "    np.min(valid_acc_list),                           # 輸出最低驗證準確度\n",
    "    np.max(valid_acc_list)                            # 輸出最高驗證準確度\n",
    "))\n",
    "model.fit(train_x, train_y)                       # 訓練決策樹模型\n",
    "\n",
    "pred_y = model.predict(train_x)                   # 確認模型是否訓練成功\n",
    "acc = accuracy_score(train_y, pred_y)             # 計算準確度\n",
    "\n",
    "print('accuracy with total data : {}'.format(acc))      \n",
    "flag=0"
   ]
  },
  {
   "cell_type": "markdown",
   "metadata": {},
   "source": [
    "- **下面的模型**\n",
    "    - 使用SVC(Support Vector Machine)模型\n",
    "    - SVC是 Supervised learning的方法，大多用在統計分類(classification)和回歸分析(regression analysis)。\n",
    "    - 'Embarked'之資料前處理\"由於有缺失資料，因此補上出現次數最多的S，然後再將'Embarked'轉換類別變成數字0,1,2"
   ]
  },
  {
   "cell_type": "code",
   "execution_count": null,
   "metadata": {
    "scrolled": true
   },
   "outputs": [],
   "source": [
    "# 模型訓練\n",
    "\n",
    "from sklearn.model_selection import KFold             # 匯入 K 次交叉驗證工具\n",
    "from sklearn.tree import DecisionTreeClassifier       # 匯入決策樹模型\n",
    "from sklearn.ensemble import  RandomForestClassifier  #!!!!!!!!!!!!!!!!!!!!!!!!!!!!!!!\n",
    "from sklearn.metrics import accuracy_score            # 匯入準確度計算工具\n",
    "\n",
    "\n",
    "train_df = pd.read_csv('./train.csv')\n",
    "train_x = train_df[['Sex', 'Age', 'Fare','Pclass','Embarked']]        # 取出訓練資料需要分析的資料欄位\n",
    "train_y = train_df['Survived']                    # 取出訓練資料的答案\n",
    "\n",
    "\n",
    "# 類別型態資料前處理# 數值型態資料前處理\n",
    "\n",
    "imputer = SimpleImputer(strategy='median')        # 創造 imputer 並設定填補策略\n",
    "age = train_x['Age'].to_numpy().reshape(-1, 1)\n",
    "imputer.fit(age)                                  # 根據資料學習需要填補的值\n",
    "train_x['Age'] = imputer.transform(age)           # 填補缺失值\n",
    "\n",
    "# 類別型態資料前處理\n",
    "\n",
    "le = LabelEncoder()                               # 創造 Label Encoder\n",
    "le.fit(train_x['Sex'])                            # 給予每個類別一個數值\n",
    "train_x['Sex'] = le.transform(train_x['Sex'])     # 轉換所有類別成為數值\n",
    "\n",
    "train_x['Embarked']=train_x['Embarked'].fillna('S') #將缺失的'Embarked'補上最多出現的s\n",
    "train_x['Embarked']=train_x['Embarked'].astype('category').cat.codes\n",
    "\n",
    "kf = KFold(n_splits=5,                                # 設定 K 值\n",
    "           random_state=1012,\n",
    "           shuffle=True)\n",
    "\n",
    "kf.get_n_splits(train_x)                              # 給予資料範圍\n",
    "train_x.tail(5) \n",
    "train_acc_list = []                                   # 儲存每次訓練模型的準確度\n",
    "valid_acc_list = []                                   # 儲存每次驗證模型的準確度\n",
    "\n",
    "for train_index, valid_index in kf.split(train_x):    # 每個迴圈都會產生不同部份的資料\n",
    "    train_x_split = train_x.iloc[train_index]         # 產生訓練資料\n",
    "    train_y_split = train_y.iloc[train_index]         # 產生訓練資料標籤\n",
    "    valid_x_split = train_x.iloc[valid_index]         # 產生驗證資料\n",
    "    valid_y_split = train_y.iloc[valid_index]         # 產生驗證資料標籤\n",
    "    \n",
    "    #model = DecisionTreeClassifier(random_state=1012) # 創造決策樹模型\n",
    "    \n",
    "    model = SVC(random_state=1012)                    # 創造支援向量機模型\n",
    "    \n",
    "    model.fit(train_x, train_y)                       # 訓練支援向量機模型\n",
    "    \n",
    "    #model=RandomForestClassifier(random_state=2,n_estimators=250,min_samples_split=20,oob_score=True) #!!!!!!!!!\n",
    "    #model.fit(train_x_split, train_y_split)           # 訓練決策樹模型\n",
    "    \n",
    "    \n",
    "    train_pred_y = model.predict(train_x_split)       # 確認模型是否訓練成功\n",
    "    train_acc = accuracy_score(train_y_split,         # 計算訓練資料準確度\n",
    "                               train_pred_y)\n",
    "    valid_pred_y = model.predict(valid_x_split)       # 驗證模型是否訓練成功\n",
    "    valid_acc = accuracy_score(valid_y_split,         # 計算驗證資料準確度\n",
    "                               valid_pred_y)\n",
    "    \n",
    "    train_acc_list.append(train_acc)\n",
    "    valid_acc_list.append(valid_acc)\n",
    "\n",
    "print((\n",
    "    'average train accuracy: {}\\n' +\n",
    "    '    min train accuracy: {}\\n' +\n",
    "    '    max train accuracy: {}\\n' +\n",
    "    'average valid accuracy: {}\\n' +\n",
    "    '    min valid accuracy: {}\\n' +\n",
    "    '    max valid accuracy: {}').format(\n",
    "    np.mean(train_acc_list),                          # 輸出平均訓練準確度\n",
    "    np.min(train_acc_list),                           # 輸出最低訓練準確度\n",
    "    np.max(train_acc_list),                           # 輸出最高訓練準確度\n",
    "    np.mean(valid_acc_list),                          # 輸出平均驗證準確度\n",
    "    np.min(valid_acc_list),                           # 輸出最低驗證準確度\n",
    "    np.max(valid_acc_list)                            # 輸出最高驗證準確度\n",
    "))\n",
    "model.fit(train_x, train_y)                       # 訓練決策樹模型\n",
    "\n",
    "pred_y = model.predict(train_x)                   # 確認模型是否訓練成功\n",
    "acc = accuracy_score(train_y, pred_y)             # 計算準確度\n",
    "\n",
    "print('accuracy with tatal data : {}'.format(acc))      "
   ]
  },
  {
   "cell_type": "code",
   "execution_count": null,
   "metadata": {},
   "outputs": [],
   "source": [
    "# 請勿更動此區塊程式碼\n",
    "\n",
    "EXECUTION_END_TIME = time.time() # 計算執行時間\n",
    "print('total execution time: {}'.format(EXECUTION_END_TIME - EXECUTION_START_TIME))"
   ]
  }
 ],
 "metadata": {
  "kernelspec": {
   "display_name": "Python 3",
   "language": "python",
   "name": "python3"
  },
  "language_info": {
   "codemirror_mode": {
    "name": "ipython",
    "version": 3
   },
   "file_extension": ".py",
   "mimetype": "text/x-python",
   "name": "python",
   "nbconvert_exporter": "python",
   "pygments_lexer": "ipython3",
   "version": "3.8.3rc1"
  }
 },
 "nbformat": 4,
 "nbformat_minor": 4
}
